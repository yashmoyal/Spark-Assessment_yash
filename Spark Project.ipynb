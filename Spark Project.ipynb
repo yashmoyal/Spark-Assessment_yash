{
 "cells": [
  {
   "cell_type": "code",
   "execution_count": 1,
   "id": "e7cdf827",
   "metadata": {},
   "outputs": [],
   "source": [
    "import findspark\n",
    "findspark.init()"
   ]
  },
  {
   "cell_type": "code",
   "execution_count": 2,
   "id": "9d3beca2",
   "metadata": {},
   "outputs": [],
   "source": [
    "import pyspark\n",
    "from delta import *\n",
    "\n",
    "builder = pyspark.sql.SparkSession.builder.appName(\"MyApp\") \\\n",
    "    .config(\"spark.sql.extensions\", \"io.delta.sql.DeltaSparkSessionExtension\") \\\n",
    "    .config(\"spark.sql.catalog.spark_catalog\", \"org.apache.spark.sql.delta.catalog.DeltaCatalog\")\n",
    "\n",
    "spark = configure_spark_with_delta_pip(builder).getOrCreate()"
   ]
  },
  {
   "cell_type": "code",
   "execution_count": 3,
   "id": "8f5e75bd",
   "metadata": {},
   "outputs": [
    {
     "name": "stdout",
     "output_type": "stream",
     "text": [
      "root\n",
      " |-- person_ID: integer (nullable = true)\n",
      " |-- name: string (nullable = true)\n",
      " |-- first: string (nullable = true)\n",
      " |-- last: string (nullable = true)\n",
      " |-- middle: string (nullable = true)\n",
      " |-- email: string (nullable = true)\n",
      " |-- phone: string (nullable = true)\n",
      " |-- fax: string (nullable = true)\n",
      " |-- title: string (nullable = true)\n",
      "\n"
     ]
    }
   ],
   "source": [
    "lines = spark.read.option(\"inferSchema\", \"true\").option(\"header\", True).option(\"sep\", \",\").csv(\"people.csv\")\n",
    "lines.printSchema()"
   ]
  },
  {
   "cell_type": "code",
   "execution_count": 4,
   "id": "48837103",
   "metadata": {},
   "outputs": [
    {
     "data": {
      "text/plain": [
       "DataFrame[person_ID: int, name: string, first: string, last: string, middle: string, email: string, phone: string, fax: string, title: string]"
      ]
     },
     "metadata": {},
     "output_type": "display_data"
    }
   ],
   "source": [
    "display(lines)"
   ]
  },
  {
   "cell_type": "code",
   "execution_count": 5,
   "id": "a14ecd2c",
   "metadata": {},
   "outputs": [
    {
     "name": "stdout",
     "output_type": "stream",
     "text": [
      "+---------+--------------------+---------+--------+--------+------------------+-----------------+------------+-------------------+\n",
      "|person_ID|                name|    first|    last|  middle|             email|            phone|         fax|              title|\n",
      "+---------+--------------------+---------+--------+--------+------------------+-----------------+------------+-------------------+\n",
      "|     3130|     Burks, Rosella |  Rosella|   Burks|    null|   BurksR@univ.edu|     963.555.1253|963.777.4065|         Professor |\n",
      "|     3297|      Avila, Damien |   Damien|   Avila|    null|   AvilaD@univ.edu|     963.555.1352|963.777.7914|         Professor |\n",
      "|     3547|       Olsen, Robin |    Robin|   Olsen|    null|   OlsenR@univ.edu|     963.555.1378|963.777.9262|Assistant Professor|\n",
      "|     1538| Moises, Edgar Estes|    Edgar|  Moises|   Estes|  MoisesE@univ.edu|963.555.2731x3565|963.777.8264|          Professor|\n",
      "|     2941| Brian, Heath Pruitt|    Heath|   Brian|  Pruitt|   BrianH@univ.edu|     963.555.2800|963.777.7249| Associate Curator |\n",
      "|     2401| Claude, Elvin Haney|    Elvin|  Claude|   Haney|  ClaudeE@univ.edu|     963.555.2902|963.777.9730|            Curator|\n",
      "|     2070|     Mosley, Edmund |   Edmund|  Mosley|    null|  MosleyE@univ.edu|     963.555.2945|963.777.9285|Assistant Professor|\n",
      "|     2561|Derek, Antoine Mccoy|  Antoine|   Derek|   Mccoy|   DerekA@univ.edu|     963.555.2992|963.777.5454|            Curator|\n",
      "|     1625|    Hawkins, Callie |   Callie| Hawkins|    null| HawkinsC@univ.edu|963.555.3350x6480|963.777.4949|          Professor|\n",
      "|     1307|       Pate, Andrea |   Andrea|    Pate|    null|    PateA@univ.edu|     963.555.3723|963.777.5049|          Professor|\n",
      "|     2342|        Austin, Liz |      Liz|  Austin|    null|  AustinL@univ.edu|     963.555.4305|963.777.6143|Assistant Professor|\n",
      "|     2755|Kendrick, Reba Al...|     Reba|Kendrick|  Alford|KendrickR@univ.edu|963.555.4618x7744|963.777.4371| Associate Curator |\n",
      "|     4150|     Sims, Angelina | Angelina|    Sims|    null|    SimsA@univ.edu|     963.555.5278|963.777.4400|          Professor|\n",
      "|     3544|  Mullins, Kimberly | Kimberly| Mullins|    null| MullinsK@univ.edu|963.555.5471x1017|963.777.9783|Assistant Professor|\n",
      "|     2096|  Chuck, Lloyd Haney|    Lloyd|   Chuck|   Haney|   ChuckL@univ.edu|963.555.5568x2652|963.777.9290|Assistant Professor|\n",
      "|     1089|     Payne, Ladonna |  Ladonna|   Payne|    null|   PayneL@univ.edu|     963.555.5639|963.777.6469|          Professor|\n",
      "|     2948|Baxter, Johnathan...|Johnathan|  Baxter|Browning|  BaxterJ@univ.edu|     963.555.5902|963.777.8336| Research Professor|\n",
      "|     4539|     Weiss, Gilbert |  Gilbert|   Weiss|    null|   WeissG@univ.edu|     963.555.5969|963.777.4975|          Professor|\n",
      "|     2811|Deirdre, Florence...| Florence| Deirdre| Barrera| DeirdreF@univ.edu|     963.555.6319|963.777.9654| Associate Curator |\n",
      "|     4580|Fernando, Toby Ca...|     Toby|Fernando|Calderon|FernandoT@univ.edu|     963.555.6469|963.777.9864| Research Professor|\n",
      "+---------+--------------------+---------+--------+--------+------------------+-----------------+------------+-------------------+\n",
      "only showing top 20 rows\n",
      "\n"
     ]
    }
   ],
   "source": [
    "lines.show()"
   ]
  },
  {
   "cell_type": "code",
   "execution_count": 6,
   "id": "ebc23e1d",
   "metadata": {},
   "outputs": [],
   "source": [
    "Lines=lines.write.format(\"delta\").mode(\"overwrite\").save(\"D:/delta-table\")"
   ]
  },
  {
   "cell_type": "code",
   "execution_count": 7,
   "id": "4bfbc9a8",
   "metadata": {},
   "outputs": [
    {
     "name": "stdout",
     "output_type": "stream",
     "text": [
      "+---------+--------------------+---------+--------+--------+------------------+-----------------+------------+-------------------+\n",
      "|person_ID|                name|    first|    last|  middle|             email|            phone|         fax|              title|\n",
      "+---------+--------------------+---------+--------+--------+------------------+-----------------+------------+-------------------+\n",
      "|     3130|     Burks, Rosella |  Rosella|   Burks|    null|   BurksR@univ.edu|     963.555.1253|963.777.4065|         Professor |\n",
      "|     3297|      Avila, Damien |   Damien|   Avila|    null|   AvilaD@univ.edu|     963.555.1352|963.777.7914|         Professor |\n",
      "|     3547|       Olsen, Robin |    Robin|   Olsen|    null|   OlsenR@univ.edu|     963.555.1378|963.777.9262|Assistant Professor|\n",
      "|     1538| Moises, Edgar Estes|    Edgar|  Moises|   Estes|  MoisesE@univ.edu|963.555.2731x3565|963.777.8264|          Professor|\n",
      "|     2941| Brian, Heath Pruitt|    Heath|   Brian|  Pruitt|   BrianH@univ.edu|     963.555.2800|963.777.7249| Associate Curator |\n",
      "|     2401| Claude, Elvin Haney|    Elvin|  Claude|   Haney|  ClaudeE@univ.edu|     963.555.2902|963.777.9730|            Curator|\n",
      "|     2070|     Mosley, Edmund |   Edmund|  Mosley|    null|  MosleyE@univ.edu|     963.555.2945|963.777.9285|Assistant Professor|\n",
      "|     2561|Derek, Antoine Mccoy|  Antoine|   Derek|   Mccoy|   DerekA@univ.edu|     963.555.2992|963.777.5454|            Curator|\n",
      "|     1625|    Hawkins, Callie |   Callie| Hawkins|    null| HawkinsC@univ.edu|963.555.3350x6480|963.777.4949|          Professor|\n",
      "|     1307|       Pate, Andrea |   Andrea|    Pate|    null|    PateA@univ.edu|     963.555.3723|963.777.5049|          Professor|\n",
      "|     2342|        Austin, Liz |      Liz|  Austin|    null|  AustinL@univ.edu|     963.555.4305|963.777.6143|Assistant Professor|\n",
      "|     2755|Kendrick, Reba Al...|     Reba|Kendrick|  Alford|KendrickR@univ.edu|963.555.4618x7744|963.777.4371| Associate Curator |\n",
      "|     4150|     Sims, Angelina | Angelina|    Sims|    null|    SimsA@univ.edu|     963.555.5278|963.777.4400|          Professor|\n",
      "|     3544|  Mullins, Kimberly | Kimberly| Mullins|    null| MullinsK@univ.edu|963.555.5471x1017|963.777.9783|Assistant Professor|\n",
      "|     2096|  Chuck, Lloyd Haney|    Lloyd|   Chuck|   Haney|   ChuckL@univ.edu|963.555.5568x2652|963.777.9290|Assistant Professor|\n",
      "|     1089|     Payne, Ladonna |  Ladonna|   Payne|    null|   PayneL@univ.edu|     963.555.5639|963.777.6469|          Professor|\n",
      "|     2948|Baxter, Johnathan...|Johnathan|  Baxter|Browning|  BaxterJ@univ.edu|     963.555.5902|963.777.8336| Research Professor|\n",
      "|     4539|     Weiss, Gilbert |  Gilbert|   Weiss|    null|   WeissG@univ.edu|     963.555.5969|963.777.4975|          Professor|\n",
      "|     2811|Deirdre, Florence...| Florence| Deirdre| Barrera| DeirdreF@univ.edu|     963.555.6319|963.777.9654| Associate Curator |\n",
      "|     4580|Fernando, Toby Ca...|     Toby|Fernando|Calderon|FernandoT@univ.edu|     963.555.6469|963.777.9864| Research Professor|\n",
      "+---------+--------------------+---------+--------+--------+------------------+-----------------+------------+-------------------+\n",
      "only showing top 20 rows\n",
      "\n"
     ]
    }
   ],
   "source": [
    "df = spark.read.format(\"delta\").load(\"D:/delta-table\")\n",
    "df.show()"
   ]
  },
  {
   "cell_type": "code",
   "execution_count": 8,
   "id": "9293bd7e",
   "metadata": {},
   "outputs": [
    {
     "data": {
      "text/plain": [
       "40"
      ]
     },
     "execution_count": 8,
     "metadata": {},
     "output_type": "execute_result"
    }
   ],
   "source": [
    "df.count()"
   ]
  },
  {
   "cell_type": "code",
   "execution_count": null,
   "id": "6bbb7aa0",
   "metadata": {},
   "outputs": [],
   "source": []
  }
 ],
 "metadata": {
  "kernelspec": {
   "display_name": "Python 3 (ipykernel)",
   "language": "python",
   "name": "python3"
  },
  "language_info": {
   "codemirror_mode": {
    "name": "ipython",
    "version": 3
   },
   "file_extension": ".py",
   "mimetype": "text/x-python",
   "name": "python",
   "nbconvert_exporter": "python",
   "pygments_lexer": "ipython3",
   "version": "3.9.10"
  }
 },
 "nbformat": 4,
 "nbformat_minor": 5
}
